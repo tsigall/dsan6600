{
 "cells": [
  {
   "cell_type": "code",
   "execution_count": 2,
   "metadata": {},
   "outputs": [],
   "source": [
    "import torch\n",
    "from IPython.display import Image\n",
    "import matplotlib.pyplot as plt\n",
    "import shutil\n",
    "import os\n",
    "import cv2\n",
    "import pandas as pd\n",
    "from PIL import Image"
   ]
  },
  {
   "cell_type": "code",
   "execution_count": 3,
   "metadata": {},
   "outputs": [],
   "source": [
    "path = \"a22.mp4\"\n",
    "output_dir = \"frames\"\n",
    "if os.path.exists(output_dir):\n",
    "  shutil.rmtree(output_dir)\n",
    "\n",
    "os.makedirs(output_dir, exist_ok=False)\n",
    "cap = cv2.VideoCapture(path)\n",
    "\n",
    "fps = cap.get(cv2.CAP_PROP_FPS)\n",
    "\n",
    "total_time = 0\n",
    "time_elapsed = 0\n",
    "# take frame every N seconds\n",
    "N = 0.25\n",
    "\n",
    "while True:\n",
    "  ret, frame = cap.read()\n",
    "  # if not ret:\n",
    "  if total_time > 1000:\n",
    "    break\n",
    "\n",
    "  if time_elapsed >= N:\n",
    "    if not (frame <= 10).all():\n",
    "      frame_path = os.path.join(output_dir, f'{int(total_time):05d}.jpg')\n",
    "      cv2.imwrite(frame_path, frame)\n",
    "    time_elapsed = 0\n",
    "\n",
    "  time_elapsed += 1 / fps\n",
    "  total_time += 1 / fps\n",
    "\n",
    "cap.release()"
   ]
  }
 ],
 "metadata": {
  "kernelspec": {
   "display_name": "dsan6600",
   "language": "python",
   "name": "python3"
  },
  "language_info": {
   "codemirror_mode": {
    "name": "ipython",
    "version": 3
   },
   "file_extension": ".py",
   "mimetype": "text/x-python",
   "name": "python",
   "nbconvert_exporter": "python",
   "pygments_lexer": "ipython3",
   "version": "3.11.7"
  }
 },
 "nbformat": 4,
 "nbformat_minor": 2
}
