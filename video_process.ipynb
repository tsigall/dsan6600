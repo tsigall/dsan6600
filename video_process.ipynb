{
 "cells": [
  {
   "cell_type": "code",
   "execution_count": 2,
   "metadata": {},
   "outputs": [],
   "source": [
    "import shutil\n",
    "import os\n",
    "import cv2"
   ]
  },
  {
   "cell_type": "code",
   "execution_count": 21,
   "metadata": {},
   "outputs": [],
   "source": [
    "path = 'video/a22_3.mp4'\n",
    "cap = cv2.VideoCapture(path)\n",
    "\n",
    "frame_count = 0\n",
    "fps = cap.get(cv2.CAP_PROP_FPS)\n",
    "interval = int(fps / 5)\n",
    "\n",
    "output_dir = 'frames'\n",
    "\n",
    "# if os.path.exists(output_dir):\n",
    "#   shutil.rmtree(output_dir)\n",
    "# os.makedirs(output_dir, exist_ok=False)\n",
    "\n",
    "while cap.isOpened() and frame_count < 5000:\n",
    "    ret, frame = cap.read()\n",
    "    if not ret:\n",
    "        break\n",
    "    if frame_count % interval == 0:\n",
    "        # frame_path = os.path.join(output_dir, f\"0{int(frame_count / 5):04d}.jpg\")\n",
    "        # frame_path = os.path.join(output_dir, f\"1{int(frame_count / 5):04d}.jpg\")\n",
    "        # frame_path = os.path.join(output_dir, f\"2{int(frame_count / 5):04d}.jpg\")\n",
    "        frame_path = os.path.join(output_dir, f\"3{int(frame_count / 5):04d}.jpg\")\n",
    "        \n",
    "        cv2.imwrite(frame_path, frame)\n",
    "    \n",
    "    frame_count += 1\n",
    "\n",
    "cap.release()\n",
    "cv2.destroyAllWindows()"
   ]
  }
 ],
 "metadata": {
  "kernelspec": {
   "display_name": "dsan6600",
   "language": "python",
   "name": "python3"
  },
  "language_info": {
   "codemirror_mode": {
    "name": "ipython",
    "version": 3
   },
   "file_extension": ".py",
   "mimetype": "text/x-python",
   "name": "python",
   "nbconvert_exporter": "python",
   "pygments_lexer": "ipython3",
   "version": "3.11.7"
  }
 },
 "nbformat": 4,
 "nbformat_minor": 2
}
